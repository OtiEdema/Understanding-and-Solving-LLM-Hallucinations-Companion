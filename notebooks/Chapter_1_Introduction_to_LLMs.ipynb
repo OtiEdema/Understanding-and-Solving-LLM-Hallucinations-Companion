{
 "cells": [
  {
   "cell_type": "markdown",
   "metadata": {},
   "source": [
    "# Chapter 1: Introduction to Large Language Models (LLMs)\n",
    "\n",
    "Large Language Models (LLMs) are revolutionising natural language processing (NLP) by enabling machines to understand and generate human-like text. This chapter introduces the foundational concepts, architectures, and practical applications of LLMs.\n",
    "\n",
    "---\n",
    "\n",
    "## Learning Objectives\n",
    "\n",
    "By the end of this chapter, you will:\n",
    "- Understand what Large Language Models are and their importance in NLP.\n",
    "- Learn about the transformer architecture, the backbone of modern LLMs.\n",
    "- Explore real-world applications of LLMs.\n",
    "- Gain hands-on experience with basic tokenisation.\n",
    "\n",
    "---\n",
    "\n",
    "## 1. What are Large Language Models?\n",
    "\n",
    "Large Language Models (LLMs) are neural networks trained on extensive datasets to perform language-related tasks such as text generation, summarisation, translation, and question answering. Examples of popular LLMs include:\n",
    "\n",
    "- **GPT (Generative Pre-trained Transformer)**: Developed by OpenAI.\n",
    "- **BERT (Bidirectional Encoder Representations from Transformers)**: Developed by Google.\n",
    "- **LLaMA (Large Language Model Meta AI)**: Developed by Meta.\n",
    "\n",
    "---\n",
    "\n",
    "### Key Features of LLMs\n",
    "\n",
    "1. **Scalability**: Ability to process and generate large volumes of text.\n",
    "2. **Contextual Understanding**: Use attention mechanisms to understand text contextually.\n",
    "3. **Pre-trained Models**: Fine-tuned on specific tasks after being pre-trained on general datasets.\n",
    "\n",
    "---\n",
    "\n",
    "## 2. The Transformer Architecture\n",
    "\n",
    "The transformer architecture, introduced in the paper *Attention is All You Need*, is the foundation of modern LLMs. Key components include:\n",
    "\n",
    "1. **Attention Mechanism**: Helps the model focus on relevant parts of the input text.\n",
    "2. **Encoder-Decoder Structure**:\n",
    "   - The encoder processes the input text.\n",
    "   - The decoder generates the output text.\n",
    "\n",
    "---\n",
    "\n",
    "### Example: Visualising Transformer Tokenisation\n",
    "\n",
    "Let’s explore how transformer models tokenise text inputs.\n"
   ]
  },
  {
   "cell_type": "code",
   "execution_count": null,
   "metadata": {},
   "outputs": [],
   "source": [
    "from transformers import AutoTokenizer\n",
    "\n",
    "# Load a pre-trained tokenizer\n",
    "model_name = \"bert-base-uncased\"\n",
    "tokenizer = AutoTokenizer.from_pretrained(model_name)\n",
    "\n",
    "# Sample text\n",
    "text = \"Understanding Large Language Models is essential for NLP.\"\n",
    "\n",
    "# Tokenise the text\n",
    "tokens = tokenizer.tokenize(text)\n",
    "token_ids = tokenizer.convert_tokens_to_ids(tokens)\n",
    "\n",
    "# Display tokens and token IDs\n",
    "print(\"Original Text:\")\n",
    "print(text)\n",
    "print(\"\\nTokens:\")\n",
    "print(tokens)\n",
    "print(\"\\nToken IDs:\")\n",
    "print(token_ids)\n"
   ]
  },
  {
   "cell_type": "markdown",
   "metadata": {},
   "source": [
    "---\n",
    "\n",
    "## Observations\n",
    "\n",
    "1. **Tokenisation Process**: Note how the tokenizer splits words and handles special characters.\n",
    "2. **Vocabulary Mapping**: Observe the mapping of tokens to numerical IDs, which are used as inputs to the model.\n",
    "\n",
    "---\n",
    "\n",
    "## 3. Applications of LLMs\n",
    "\n",
    "LLMs are used in various domains, including:\n",
    "\n",
    "1. **Text Generation**: Writing essays, generating code, or creating content.\n",
    "2. **Customer Support**: Chatbots and virtual assistants.\n",
    "3. **Healthcare**: Summarising medical records and assisting in diagnosis.\n",
    "4. **Finance**: Analysing market trends and generating financial reports.\n",
    "\n",
    "---\n",
    "\n",
    "### Example: Using GPT-4 for Text Generation\n",
    "\n",
    "We’ll use OpenAI’s GPT-4 API to generate a response to a user query.\n"
   ]
  },
  {
   "cell_type": "code",
   "execution_count": null,
   "metadata": {},
   "outputs": [],
   "source": [
    "import openai\n",
    "\n",
    "# Set up OpenAI API\n",
    "openai.api_key = \"YOUR_OPENAI_API_KEY\"  # Replace with your OpenAI API key\n",
    "\n",
    "# Define a prompt\n",
    "prompt = \"Explain the benefits of using Large Language Models in natural language processing.\"\n",
    "\n",
    "# Generate a response\n",
    "response = openai.ChatCompletion.create(\n",
    "    model=\"gpt-4\",\n",
    "    messages=[{\"role\": \"user\", \"content\": prompt}]\n",
    ")\n",
    "\n",
    "# Display the generated response\n",
    "print(\"GPT-4 Response:\")\n",
    "print(response['choices'][0]['message']['content'])\n"
   ]
  },
  {
   "cell_type": "markdown",
   "metadata": {},
   "source": [
    "---\n",
    "\n",
    "## Observations\n",
    "\n",
    "1. **Relevance**: Note how well the model addresses the prompt.\n",
    "2. **Clarity**: Observe the coherence and structure of the generated response.\n",
    "\n",
    "---\n",
    "\n",
    "## 4. Exercise: Experimenting with Tokenisation\n",
    "\n",
    "### Instructions\n",
    "\n",
    "1. Tokenise the following sentence:  \n",
    "   \"Large Language Models like GPT-4 are transforming industries.\"\n",
    "2. Observe how different tokenisers handle this input by experimenting with the following models:\n",
    "   - `gpt-2`\n",
    "   - `distilbert-base-uncased`\n",
    "\n",
    "\n"
   ]
  },
  {
   "cell_type": "code",
   "execution_count": null,
   "metadata": {},
   "outputs": [],
   "source": [
    "# Tokenising with different models\n",
    "models = [\"gpt-2\", \"distilbert-base-uncased\"]\n",
    "\n",
    "for model_name in models:\n",
    "    tokenizer = AutoTokenizer.from_pretrained(model_name)\n",
    "    tokens = tokenizer.tokenize(text)\n",
    "    print(f\"\\nModel: {model_name}\")\n",
    "    print(\"Tokens:\", tokens)\n"
   ]
  },
  {
   "cell_type": "markdown",
   "metadata": {},
   "source": [
    "---\n",
    "\n",
    "## 5. Key Takeaways\n",
    "\n",
    "- **LLMs** are powerful tools for understanding and generating natural language.\n",
    "- **Transformer architecture** is the backbone of modern LLMs, enabling contextual understanding.\n",
    "- LLMs are versatile and have applications across various industries.\n"
   ]
  },
  {
   "cell_type": "markdown",
   "metadata": {},
   "source": [
    "## 6. Summary\n",
    "\n",
    "In this chapter, we introduced Large Language Models and their foundational architecture, the transformer. We explored basic tokenisation and demonstrated practical applications of LLMs. These concepts form the foundation for understanding advanced topics in subsequent chapters.\n"
   ]
  }
 ],
 "metadata": {
  "kernelspec": {
   "display_name": "base",
   "language": "python",
   "name": "python3"
  },
  "language_info": {
   "codemirror_mode": {
    "name": "ipython",
    "version": 3
   },
   "file_extension": ".py",
   "mimetype": "text/x-python",
   "name": "python",
   "nbconvert_exporter": "python",
   "pygments_lexer": "ipython3",
   "version": "3.12.7"
  }
 },
 "nbformat": 4,
 "nbformat_minor": 2
}
